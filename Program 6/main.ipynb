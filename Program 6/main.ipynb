{
 "cells": [
  {
   "attachments": {},
   "cell_type": "markdown",
   "metadata": {},
   "source": [
    "### Alejo Vinluan (abv210001)\n",
    "# Text Classification\n",
    "\n",
    "This notebook focuses on finding out whether a news article is real or fake given the title, text, and subject of the article. It will utilize sklearn by using Naive Bayes, Logistic Regression, and Neural Networks to predict whether or not the articles are real or fake.\n",
    "\n",
    "## Dataset Breakdown\n",
    "The dataset gives the following columns:\n",
    "\n",
    "* title - The title of the article\n",
    "\n",
    "* text - The contents of the article\n",
    "\n",
    "* subject - What the news article covers (news, politics, etc.)\n",
    "\n",
    "* date - The date the article was posted\n",
    "\n",
    "* real - Boolean value stating whether article is real or fake\n",
    "\n",
    "\n",
    "The columns title, text, and subject will be used in order to analyze the dataset with sklearn. The original dataset is over 40,000 rows so only 10,000 of the rows will be randomly selected in order to save on processing power."
   ]
  },
  {
   "cell_type": "code",
   "execution_count": 7,
   "metadata": {},
   "outputs": [],
   "source": [
    "import pandas as pd\n",
    "import numpy as np\n",
    "from sklearn.model_selection import train_test_split\n",
    "\n",
    "data = pd.read_csv('data/Combined.csv')\n",
    "# Source: https://www.kaggle.com/datasets/clmentbisaillon/fake-and-real-news-dataset\n",
    "\n",
    "# Ignore the 'date' column\n",
    "data = data.drop(columns=['date', 'title', 'subject'])\n",
    "\n",
    "# Sample only 10,000 rows of the dataset\n",
    "data = data.sample(n=10000, random_state=123)\n",
    "\n",
    "# Drop rows if missing values exist\n",
    "data = data.dropna()\n",
    "\n",
    "# Split data into 80% train and 20% test\n",
    "x_train, x_test, y_train, y_test = train_test_split(data['text'], data['real'], test_size=0.2, random_state=123)\n",
    "\n",
    "test, train = train_test_split(data, test_size=0.2, random_state=123)"
   ]
  },
  {
   "attachments": {},
   "cell_type": "markdown",
   "metadata": {},
   "source": [
    "## Distribution of Real Articles vs Fake\n",
    "The following pie chart shows the distribution of the dataset of real articles and fake articles."
   ]
  },
  {
   "cell_type": "code",
   "execution_count": 3,
   "metadata": {},
   "outputs": [
    {
     "data": {
      "image/png": "[encoded data removed]",
      "text/plain": [
       "<Figure size 640x480 with 1 Axes>"
      ]
     },
     "metadata": {},
     "output_type": "display_data"
    }
   ],
   "source": [
    "# Get how many values in 'real' column are 0 or 1\n",
    "values = data['real'].value_counts()\n",
    "\n",
    "# Create the pie chart\n",
    "import matplotlib.pyplot as plt\n",
    "\n",
    "labels = ['Fake', 'Real']\n",
    "sizes = [values[0], values[1]]\n",
    "colors = ['lightcoral', 'cornflowerblue']\n",
    "plt.pie(sizes, labels=labels, colors=colors, autopct='%1.1f%%', startangle=90)\n",
    "plt.axis('equal')\n",
    "plt.title('Distribution of Real Articles vs Fake Articles')\n",
    "plt.show()\n"
   ]
  },
  {
   "attachments": {},
   "cell_type": "markdown",
   "metadata": {},
   "source": [
    "The pie chart shows that 48.8% of our dataset are real articles while 51.2% of the articles are fake.\n",
    "\n",
    "## SKLearn\n",
    "\n",
    "SKLearn (Scikit-learn) is an open source library in Python used for data analysis and machine learning. It has the capability of performing the classification algorithms that will be used in this notebook: Naive Bayes, Logistic Regression, and Neural Networks.\n",
    "\n",
    "## Pre-Process Text\n",
    "\n",
    "The text needs to be pre-processed in order to utilize the classification algorithms. In this instance, the text will be broken down into Bag of words representations. \n",
    "\n",
    "SKLearn uses Bag of Words by giving each word an ID within the training set. Then, it will count the number of occurences of that specific word. Bag of Words are generally used for high-dimensional sparse dataests."
   ]
  },
  {
   "cell_type": "code",
   "execution_count": 8,
   "metadata": {},
   "outputs": [],
   "source": [
    "from sklearn.feature_extraction.text import CountVectorizer\n",
    "\n",
    "# Utilize Bag of Words for each column in the train and test set\n",
    "count_vect = CountVectorizer()\n",
    "\n",
    "# Transform the training data into Bag of Words\n",
    "x_train = count_vect.fit_transform(x_train)\n",
    "x_test = count_vect.transform(x_test)"
   ]
  },
  {
   "attachments": {},
   "cell_type": "markdown",
   "metadata": {},
   "source": [
    "## Naive Bayes\n",
    "\n",
    "Naive Bayes utilizes Bayes Theorem to make a classification. It will assume each of the columns are independent of each other."
   ]
  },
  {
   "cell_type": "code",
   "execution_count": 10,
   "metadata": {},
   "outputs": [
    {
     "name": "stdout",
     "output_type": "stream",
     "text": [
      "0.973\n"
     ]
    }
   ],
   "source": [
    "from sklearn.naive_bayes import MultinomialNB\n",
    "from sklearn.metrics import accuracy_score\n",
    "\n",
    "nb = MultinomialNB()\n",
    "nb.fit(x_train, y_train)\n",
    "\n",
    "predictions = nb.predict(x_test)\n",
    "\n",
    "accuracy = accuracy_score(y_test, predictions)\n"
   ]
  }
 ],
 "metadata": {
  "kernelspec": {
   "display_name": "Python 3",
   "language": "python",
   "name": "python3"
  },
  "language_info": {
   "codemirror_mode": {
    "name": "ipython",
    "version": 3
   },
   "file_extension": ".py",
   "mimetype": "text/x-python",
   "name": "python",
   "nbconvert_exporter": "python",
   "pygments_lexer": "ipython3",
   "version": "3.11.0"
  },
  "orig_nbformat": 4
 },
 "nbformat": 4,
 "nbformat_minor": 2
}
